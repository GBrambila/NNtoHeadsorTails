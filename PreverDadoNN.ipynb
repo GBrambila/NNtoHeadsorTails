{
 "cells": [
  {
   "cell_type": "code",
   "execution_count": 1,
   "metadata": {},
   "outputs": [
    {
     "name": "stdout",
     "output_type": "stream",
     "text": [
      "Populating the interactive namespace from numpy and matplotlib\n"
     ]
    }
   ],
   "source": [
    "%pylab inline\n",
    "from Dado import *\n",
    "from WelchNN import *\n",
    "#numpy.set_printoptions(threshold=numpy.nan)\n",
    "jogadas=0"
   ]
  },
  {
   "cell_type": "code",
   "execution_count": 2,
   "metadata": {},
   "outputs": [],
   "source": [
    "D=Dado(2)\n",
    "NN=Neural_Network(Lambda=0.0001,input=len(D.lado)*2,hidden=10)"
   ]
  },
  {
   "cell_type": "code",
   "execution_count": 3,
   "metadata": {},
   "outputs": [],
   "source": [
    "def arrumarOutput(arr):\n",
    "    arr*=(len(D.lado)-1)\n",
    "    for i in range (len(arr)):\n",
    "        #    19.3 - 19         = 0.3\n",
    "        if(arr[i] - int(arr[i])<=0.5):\n",
    "            arr[i]=int(arr[i])+0.0\n",
    "        else:\n",
    "            arr[i]=int(arr[i])+1.0\n",
    "    return arr"
   ]
  },
  {
   "cell_type": "code",
   "execution_count": 4,
   "metadata": {},
   "outputs": [],
   "source": [
    "def preencherDados(quant):\n",
    "    global jogadas\n",
    "    jogadas+=1\n",
    "    D.rolarDado(1,jogadas)\n",
    "    X=np.array([D.dados()])\n",
    "    y=np.array([[D.result]])\n",
    "\n",
    "    for i in range(quant):\n",
    "        jogadas+=1\n",
    "        D.rolarDado(1,jogadas)\n",
    "        X=np.append(X,[D.dados()],axis=0)\n",
    "        y=np.append(y,[[D.result]],axis=0)\n",
    "    \n",
    "    XMax=np.amax(X,axis=0)\n",
    "    X=X/XMax\n",
    "    y=y/(len(D.lado)-1)\n",
    "    \n",
    "    nansEqualZero(X)\n",
    "    return X,y,XMax"
   ]
  },
  {
   "cell_type": "code",
   "execution_count": 5,
   "metadata": {},
   "outputs": [],
   "source": [
    "def rand(n, end, start = 0):\n",
    "    n=int(n)\n",
    "    nArr=np.arange(0,n)\n",
    "    nArr=np.append(nArr,np.arange(n+1,end))\n",
    "    return nArr[np.random.randint(0,high=len(nArr))]"
   ]
  },
  {
   "cell_type": "code",
   "execution_count": 6,
   "metadata": {},
   "outputs": [],
   "source": [
    "def nansEqualZero(arr):\n",
    "    where_are_NaNs = isnan(arr)\n",
    "    arr[where_are_NaNs] = 0"
   ]
  },
  {
   "cell_type": "code",
   "execution_count": 7,
   "metadata": {},
   "outputs": [],
   "source": [
    "X,y,xMax=preencherDados(100)"
   ]
  },
  {
   "cell_type": "code",
   "execution_count": 8,
   "metadata": {},
   "outputs": [],
   "source": [
    "T=trainer(NN)"
   ]
  },
  {
   "cell_type": "code",
   "execution_count": 9,
   "metadata": {},
   "outputs": [
    {
     "name": "stdout",
     "output_type": "stream",
     "text": [
      "Warning: Maximum number of iterations has been exceeded.\n",
      "         Current function value: 0.058486\n",
      "         Iterations: 200\n",
      "         Function evaluations: 204\n",
      "         Gradient evaluations: 204\n"
     ]
    }
   ],
   "source": [
    "T.train(X,y)"
   ]
  },
  {
   "cell_type": "code",
   "execution_count": 10,
   "metadata": {},
   "outputs": [],
   "source": [
    "X,y,XMax=preencherDados(5000)"
   ]
  },
  {
   "cell_type": "code",
   "execution_count": 11,
   "metadata": {},
   "outputs": [],
   "source": [
    "yHat=NN.forward(X)\n",
    "y=y*(len(D.lado)-1)\n",
    "yHat=arrumarOutput(yHat)"
   ]
  },
  {
   "cell_type": "code",
   "execution_count": 12,
   "metadata": {},
   "outputs": [
    {
     "name": "stdout",
     "output_type": "stream",
     "text": [
      "Total: 5001 Certas:  3366 Erradas:  1635\n"
     ]
    }
   ],
   "source": [
    "certas=len(y)\n",
    "for i in range(len(y)):\n",
    "    if y[i,0]!=yHat[i,0]:\n",
    "        certas-=1\n",
    "print('Total:',len(y),'Certas: ',certas, 'Erradas: ',len(y)-certas)"
   ]
  },
  {
   "cell_type": "code",
   "execution_count": 14,
   "metadata": {},
   "outputs": [
    {
     "name": "stderr",
     "output_type": "stream",
     "text": [
      "C:\\ProgramData\\Anaconda3\\lib\\site-packages\\ipykernel_launcher.py:15: RuntimeWarning: invalid value encountered in true_divide\n",
      "  from ipykernel import kernelapp as app\n"
     ]
    },
    {
     "name": "stdout",
     "output_type": "stream",
     "text": [
      "10000 7455 2545\n"
     ]
    }
   ],
   "source": [
    "jogadas=0\n",
    "X,y,XMax=preencherDados(0)\n",
    "total,derrota=0,0\n",
    "#bet=30\n",
    "for i in range(10000):\n",
    "    X=X[len(X)-1]\n",
    "    total+=1\n",
    "    yHat=NN.forward(X)\n",
    "    yHat=arrumarOutput(yHat)\n",
    "    num=rand(yHat,len(D.lado))\n",
    "    if num==D.result:\n",
    "        #bet-=30\n",
    "        derrota+=1\n",
    "    else:\n",
    "        #bet+=1\n",
    "        X=0\n",
    "    y=0\n",
    "    X,y,xMax=preencherDados(0)\n",
    "print(total, total-derrota,derrota)\n",
    "#print(bet)"
   ]
  },
  {
   "cell_type": "code",
   "execution_count": null,
   "metadata": {},
   "outputs": [],
   "source": []
  }
 ],
 "metadata": {
  "kernelspec": {
   "display_name": "Python 3",
   "language": "python",
   "name": "python3"
  },
  "language_info": {
   "codemirror_mode": {
    "name": "ipython",
    "version": 3
   },
   "file_extension": ".py",
   "mimetype": "text/x-python",
   "name": "python",
   "nbconvert_exporter": "python",
   "pygments_lexer": "ipython3",
   "version": "3.7.3"
  }
 },
 "nbformat": 4,
 "nbformat_minor": 2
}
